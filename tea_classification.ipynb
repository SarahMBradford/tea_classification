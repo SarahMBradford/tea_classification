{
 "cells": [
  {
   "cell_type": "code",
   "execution_count": 1,
   "metadata": {},
   "outputs": [],
   "source": [
    "import pandas as pd\n",
    "import numpy as np\n",
    "import matplotlib.pyplot as plt\n",
    "import seaborn as sns\n",
    "import sklearn.metrics as metrics\n",
    "import sklearn.model_selection as model_selection\n",
    "from sklearn.linear_model import LinearRegression\n",
    "from sklearn.linear_model import LogisticRegression\n",
    "from sklearn.model_selection import train_test_split\n",
    "from sklearn.model_selection import cross_val_score\n",
    "from sklearn.model_selection import KFold\n",
    "from sklearn.preprocessing import StandardScaler\n",
    "import altair as alt\n",
    "import plotly.express as px\n",
    "import streamlit as st\n",
    "import prettytable\n"
   ]
  },
  {
   "cell_type": "code",
   "execution_count": 2,
   "metadata": {},
   "outputs": [
    {
     "data": {
      "text/html": [
       "<div>\n",
       "<style scoped>\n",
       "    .dataframe tbody tr th:only-of-type {\n",
       "        vertical-align: middle;\n",
       "    }\n",
       "\n",
       "    .dataframe tbody tr th {\n",
       "        vertical-align: top;\n",
       "    }\n",
       "\n",
       "    .dataframe thead th {\n",
       "        text-align: right;\n",
       "    }\n",
       "</style>\n",
       "<table border=\"1\" class=\"dataframe\">\n",
       "  <thead>\n",
       "    <tr style=\"text-align: right;\">\n",
       "      <th></th>\n",
       "      <th>Beverage_category</th>\n",
       "      <th>Beverage</th>\n",
       "      <th>Beverage_prep</th>\n",
       "      <th>Calories</th>\n",
       "      <th>Total Fat (g)</th>\n",
       "      <th>Trans Fat (g)</th>\n",
       "      <th>Saturated Fat (g)</th>\n",
       "      <th>Sodium (mg)</th>\n",
       "      <th>Total Carbohydrates (g)</th>\n",
       "      <th>Cholesterol (mg)</th>\n",
       "      <th>Dietary Fibre (g)</th>\n",
       "      <th>Sugars (g)</th>\n",
       "      <th>Protein (g)</th>\n",
       "      <th>Vitamin A (% DV)</th>\n",
       "      <th>Vitamin C (% DV)</th>\n",
       "      <th>Calcium (% DV)</th>\n",
       "      <th>Iron (% DV)</th>\n",
       "      <th>Caffeine (mg)</th>\n",
       "    </tr>\n",
       "  </thead>\n",
       "  <tbody>\n",
       "    <tr>\n",
       "      <th>0</th>\n",
       "      <td>Coffee</td>\n",
       "      <td>Brewed Coffee</td>\n",
       "      <td>Short</td>\n",
       "      <td>3</td>\n",
       "      <td>0.1</td>\n",
       "      <td>0.0</td>\n",
       "      <td>0.0</td>\n",
       "      <td>0</td>\n",
       "      <td>5</td>\n",
       "      <td>0</td>\n",
       "      <td>0</td>\n",
       "      <td>0</td>\n",
       "      <td>0.3</td>\n",
       "      <td>0%</td>\n",
       "      <td>0%</td>\n",
       "      <td>0%</td>\n",
       "      <td>0%</td>\n",
       "      <td>175</td>\n",
       "    </tr>\n",
       "    <tr>\n",
       "      <th>1</th>\n",
       "      <td>Coffee</td>\n",
       "      <td>Brewed Coffee</td>\n",
       "      <td>Tall</td>\n",
       "      <td>4</td>\n",
       "      <td>0.1</td>\n",
       "      <td>0.0</td>\n",
       "      <td>0.0</td>\n",
       "      <td>0</td>\n",
       "      <td>10</td>\n",
       "      <td>0</td>\n",
       "      <td>0</td>\n",
       "      <td>0</td>\n",
       "      <td>0.5</td>\n",
       "      <td>0%</td>\n",
       "      <td>0%</td>\n",
       "      <td>0%</td>\n",
       "      <td>0%</td>\n",
       "      <td>260</td>\n",
       "    </tr>\n",
       "    <tr>\n",
       "      <th>2</th>\n",
       "      <td>Coffee</td>\n",
       "      <td>Brewed Coffee</td>\n",
       "      <td>Grande</td>\n",
       "      <td>5</td>\n",
       "      <td>0.1</td>\n",
       "      <td>0.0</td>\n",
       "      <td>0.0</td>\n",
       "      <td>0</td>\n",
       "      <td>10</td>\n",
       "      <td>0</td>\n",
       "      <td>0</td>\n",
       "      <td>0</td>\n",
       "      <td>1.0</td>\n",
       "      <td>0%</td>\n",
       "      <td>0%</td>\n",
       "      <td>0%</td>\n",
       "      <td>0%</td>\n",
       "      <td>330</td>\n",
       "    </tr>\n",
       "    <tr>\n",
       "      <th>3</th>\n",
       "      <td>Coffee</td>\n",
       "      <td>Brewed Coffee</td>\n",
       "      <td>Venti</td>\n",
       "      <td>5</td>\n",
       "      <td>0.1</td>\n",
       "      <td>0.0</td>\n",
       "      <td>0.0</td>\n",
       "      <td>0</td>\n",
       "      <td>10</td>\n",
       "      <td>0</td>\n",
       "      <td>0</td>\n",
       "      <td>0</td>\n",
       "      <td>1.0</td>\n",
       "      <td>0%</td>\n",
       "      <td>0%</td>\n",
       "      <td>2%</td>\n",
       "      <td>0%</td>\n",
       "      <td>410</td>\n",
       "    </tr>\n",
       "    <tr>\n",
       "      <th>4</th>\n",
       "      <td>Classic Espresso Drinks</td>\n",
       "      <td>Caffè Latte</td>\n",
       "      <td>Short Nonfat Milk</td>\n",
       "      <td>70</td>\n",
       "      <td>0.1</td>\n",
       "      <td>0.1</td>\n",
       "      <td>0.0</td>\n",
       "      <td>5</td>\n",
       "      <td>75</td>\n",
       "      <td>10</td>\n",
       "      <td>0</td>\n",
       "      <td>9</td>\n",
       "      <td>6.0</td>\n",
       "      <td>10%</td>\n",
       "      <td>0%</td>\n",
       "      <td>20%</td>\n",
       "      <td>0%</td>\n",
       "      <td>75</td>\n",
       "    </tr>\n",
       "  </tbody>\n",
       "</table>\n",
       "</div>"
      ],
      "text/plain": [
       "         Beverage_category       Beverage      Beverage_prep  Calories  \\\n",
       "0                   Coffee  Brewed Coffee              Short         3   \n",
       "1                   Coffee  Brewed Coffee               Tall         4   \n",
       "2                   Coffee  Brewed Coffee             Grande         5   \n",
       "3                   Coffee  Brewed Coffee              Venti         5   \n",
       "4  Classic Espresso Drinks    Caffè Latte  Short Nonfat Milk        70   \n",
       "\n",
       "  Total Fat (g)  Trans Fat (g)   Saturated Fat (g)  Sodium (mg)  \\\n",
       "0           0.1             0.0                0.0            0   \n",
       "1           0.1             0.0                0.0            0   \n",
       "2           0.1             0.0                0.0            0   \n",
       "3           0.1             0.0                0.0            0   \n",
       "4           0.1             0.1                0.0            5   \n",
       "\n",
       "   Total Carbohydrates (g)   Cholesterol (mg)  Dietary Fibre (g)  Sugars (g)  \\\n",
       "0                         5                 0                  0           0   \n",
       "1                        10                 0                  0           0   \n",
       "2                        10                 0                  0           0   \n",
       "3                        10                 0                  0           0   \n",
       "4                        75                10                  0           9   \n",
       "\n",
       "   Protein (g)  Vitamin A (% DV)  Vitamin C (% DV) Calcium (% DV)   \\\n",
       "0           0.3                0%               0%              0%   \n",
       "1           0.5                0%               0%              0%   \n",
       "2           1.0                0%               0%              0%   \n",
       "3           1.0                0%               0%              2%   \n",
       "4           6.0               10%               0%             20%   \n",
       "\n",
       "  Iron (% DV)  Caffeine (mg)  \n",
       "0           0%           175  \n",
       "1           0%           260  \n",
       "2           0%           330  \n",
       "3           0%           410  \n",
       "4           0%            75  "
      ]
     },
     "execution_count": 2,
     "metadata": {},
     "output_type": "execute_result"
    }
   ],
   "source": [
    "starbucks_drinks = pd.read_csv(\"/Users/sarahbradford/Downloads/starbucks_drinks.csv\")\n",
    "starbucks_drinks.head()"
   ]
  },
  {
   "cell_type": "code",
   "execution_count": 3,
   "metadata": {},
   "outputs": [
    {
     "name": "stdout",
     "output_type": "stream",
     "text": [
      "<class 'pandas.core.frame.DataFrame'>\n",
      "RangeIndex: 242 entries, 0 to 241\n",
      "Data columns (total 18 columns):\n",
      " #   Column                    Non-Null Count  Dtype  \n",
      "---  ------                    --------------  -----  \n",
      " 0   Beverage_category         242 non-null    object \n",
      " 1   Beverage                  242 non-null    object \n",
      " 2   Beverage_prep             242 non-null    object \n",
      " 3   Calories                  242 non-null    int64  \n",
      " 4   Total Fat (g)             242 non-null    object \n",
      " 5   Trans Fat (g)             242 non-null    float64\n",
      " 6   Saturated Fat (g)         242 non-null    float64\n",
      " 7   Sodium (mg)               242 non-null    int64  \n",
      " 8   Total Carbohydrates (g)   242 non-null    int64  \n",
      " 9   Cholesterol (mg)          242 non-null    int64  \n",
      " 10  Dietary Fibre (g)         242 non-null    int64  \n",
      " 11  Sugars (g)                242 non-null    int64  \n",
      " 12  Protein (g)               242 non-null    float64\n",
      " 13  Vitamin A (% DV)          242 non-null    object \n",
      " 14  Vitamin C (% DV)          242 non-null    object \n",
      " 15  Calcium (% DV)            242 non-null    object \n",
      " 16  Iron (% DV)               242 non-null    object \n",
      " 17  Caffeine (mg)             242 non-null    float64\n",
      "dtypes: float64(4), int64(6), object(8)\n",
      "memory usage: 34.2+ KB\n"
     ]
    }
   ],
   "source": [
    "starbucks_drinks['Caffeine (mg)'] = pd.to_numeric(starbucks_drinks['Caffeine (mg)'], errors='coerce')\n",
    "starbucks_drinks['Caffeine (mg)'].fillna(starbucks_drinks['Caffeine (mg)'].mean(), inplace=True)\n",
    "starbucks_drinks.info()"
   ]
  },
  {
   "cell_type": "code",
   "execution_count": 4,
   "metadata": {},
   "outputs": [
    {
     "name": "stdout",
     "output_type": "stream",
     "text": [
      "+-----------------------------------+------------+----------------------+\n",
      "|         Beverage Category         | Percentage |        Count         |\n",
      "+-----------------------------------+------------+----------------------+\n",
      "|      Classic Espresso Drinks      |   0.2397   |  0.2396694214876033  |\n",
      "|          Tazo® Tea Drinks         |   0.2149   | 0.21487603305785125  |\n",
      "|     Signature Espresso Drinks     |   0.1653   |  0.1652892561983471  |\n",
      "|    Frappuccino® Blended Coffee    |   0.1488   |  0.1487603305785124  |\n",
      "|       Shaken Iced Beverages       |   0.0744   |  0.0743801652892562  |\n",
      "|     Frappuccino® Blended Crème    |   0.0537   | 0.05371900826446281  |\n",
      "| Frappuccino® Light Blended Coffee |   0.0496   | 0.049586776859504134 |\n",
      "|             Smoothies             |   0.0372   |  0.0371900826446281  |\n",
      "|               Coffee              |   0.0165   | 0.01652892561983471  |\n",
      "+-----------------------------------+------------+----------------------+\n"
     ]
    }
   ],
   "source": [
    "class_dist = starbucks_drinks['Beverage_category'].value_counts(normalize=True)\n",
    "# display class dist using prettytable\n",
    "class_dist_table = prettytable.PrettyTable()\n",
    "class_dist_table.add_column(\"Beverage Category\", class_dist.index)\n",
    "class_dist_table.add_column(\"Percentage\", np.round(class_dist.values, 4))\n",
    "print(class_dist_table)\n",
    "# display using streamlit\n",
    "st.write(class_dist_table)\n",
    "# count of beverage categories"
   ]
  },
  {
   "cell_type": "code",
   "execution_count": 5,
   "metadata": {},
   "outputs": [
    {
     "name": "stdout",
     "output_type": "stream",
     "text": [
      "['Coffee' 'Classic Espresso Drinks' 'Signature Espresso Drinks'\n",
      " 'Tazo® Tea Drinks' 'Shaken Iced Beverages' 'Smoothies'\n",
      " 'Frappuccino® Blended Coffee' 'Frappuccino® Light Blended Coffee'\n",
      " 'Frappuccino® Blended Crème']\n",
      "Tea\n",
      "0    0.785124\n",
      "1    0.214876\n",
      "Name: proportion, dtype: float64\n"
     ]
    }
   ],
   "source": [
    "print(starbucks_drinks['Beverage_category'].unique())\n",
    "starbucks_drinks['Beverage_category'] = starbucks_drinks['Beverage_category'].replace('Tazo® Tea Drinks', 'Tea')\n",
    "# class distribution for tea\n",
    "starbucks_drinks['Tea'] = starbucks_drinks['Beverage_category'].apply(lambda x: 1 if x == 'Tea' else 0)\n",
    "class_dist = starbucks_drinks['Tea'].value_counts(normalize=True)\n",
    "print(class_dist)"
   ]
  },
  {
   "cell_type": "code",
   "execution_count": 6,
   "metadata": {},
   "outputs": [],
   "source": [
    "starbucks_drinks = starbucks_drinks.drop(['Beverage_category'], axis=1)\n",
    "starbucks_drinks = starbucks_drinks.drop(['Beverage'], axis=1)"
   ]
  },
  {
   "cell_type": "code",
   "execution_count": 7,
   "metadata": {},
   "outputs": [
    {
     "name": "stdout",
     "output_type": "stream",
     "text": [
      "['0.1' '3.5' '2.5' '0.2' '6' '4.5' '0.3' '7' '5' '0.4' '9' '1.5' '4' '2'\n",
      " '8' '3' '11' '0' '1' '10' '15' '13' '0.5' '3 2']\n"
     ]
    }
   ],
   "source": [
    "print(starbucks_drinks['Total Fat (g)'].unique())\n",
    "starbucks_drinks[ 'Total Fat (g)'] = starbucks_drinks[ 'Total Fat (g)'].str.replace('3 2', '3.2')"
   ]
  },
  {
   "cell_type": "code",
   "execution_count": 8,
   "metadata": {},
   "outputs": [
    {
     "name": "stderr",
     "output_type": "stream",
     "text": [
      "/var/folders/vr/39kr0w796s379f33dxdl9zrh0000gn/T/ipykernel_3943/2145684054.py:7: FutureWarning: DataFrame.applymap has been deprecated. Use DataFrame.map instead.\n",
      "  starbucks_drinks = starbucks_drinks.applymap(float_converter)\n"
     ]
    }
   ],
   "source": [
    "def float_converter(value):\n",
    "    try:\n",
    "        return float(str(value).replace('%', ''))\n",
    "    except (ValueError, TypeError):\n",
    "        return np.nan\n",
    "\n",
    "starbucks_drinks = starbucks_drinks.applymap(float_converter)"
   ]
  },
  {
   "cell_type": "code",
   "execution_count": 9,
   "metadata": {},
   "outputs": [
    {
     "data": {
      "text/html": [
       "<div>\n",
       "<style scoped>\n",
       "    .dataframe tbody tr th:only-of-type {\n",
       "        vertical-align: middle;\n",
       "    }\n",
       "\n",
       "    .dataframe tbody tr th {\n",
       "        vertical-align: top;\n",
       "    }\n",
       "\n",
       "    .dataframe thead th {\n",
       "        text-align: right;\n",
       "    }\n",
       "</style>\n",
       "<table border=\"1\" class=\"dataframe\">\n",
       "  <thead>\n",
       "    <tr style=\"text-align: right;\">\n",
       "      <th></th>\n",
       "      <th>Calories</th>\n",
       "      <th>Total Fat (g)</th>\n",
       "      <th>Trans Fat (g)</th>\n",
       "      <th>Saturated Fat (g)</th>\n",
       "      <th>Sodium (mg)</th>\n",
       "      <th>Total Carbohydrates (g)</th>\n",
       "      <th>Cholesterol (mg)</th>\n",
       "      <th>Dietary Fibre (g)</th>\n",
       "      <th>Sugars (g)</th>\n",
       "      <th>Protein (g)</th>\n",
       "      <th>Vitamin A (% DV)</th>\n",
       "      <th>Vitamin C (% DV)</th>\n",
       "      <th>Calcium (% DV)</th>\n",
       "      <th>Iron (% DV)</th>\n",
       "      <th>Caffeine (mg)</th>\n",
       "      <th>Tea</th>\n",
       "    </tr>\n",
       "  </thead>\n",
       "  <tbody>\n",
       "    <tr>\n",
       "      <th>0</th>\n",
       "      <td>3.0</td>\n",
       "      <td>0.1</td>\n",
       "      <td>0.0</td>\n",
       "      <td>0.0</td>\n",
       "      <td>0.0</td>\n",
       "      <td>5.0</td>\n",
       "      <td>0.0</td>\n",
       "      <td>0.0</td>\n",
       "      <td>0.0</td>\n",
       "      <td>0.3</td>\n",
       "      <td>0.0</td>\n",
       "      <td>0.0</td>\n",
       "      <td>0.0</td>\n",
       "      <td>0.0</td>\n",
       "      <td>175.0</td>\n",
       "      <td>0.0</td>\n",
       "    </tr>\n",
       "    <tr>\n",
       "      <th>1</th>\n",
       "      <td>4.0</td>\n",
       "      <td>0.1</td>\n",
       "      <td>0.0</td>\n",
       "      <td>0.0</td>\n",
       "      <td>0.0</td>\n",
       "      <td>10.0</td>\n",
       "      <td>0.0</td>\n",
       "      <td>0.0</td>\n",
       "      <td>0.0</td>\n",
       "      <td>0.5</td>\n",
       "      <td>0.0</td>\n",
       "      <td>0.0</td>\n",
       "      <td>0.0</td>\n",
       "      <td>0.0</td>\n",
       "      <td>260.0</td>\n",
       "      <td>0.0</td>\n",
       "    </tr>\n",
       "    <tr>\n",
       "      <th>2</th>\n",
       "      <td>5.0</td>\n",
       "      <td>0.1</td>\n",
       "      <td>0.0</td>\n",
       "      <td>0.0</td>\n",
       "      <td>0.0</td>\n",
       "      <td>10.0</td>\n",
       "      <td>0.0</td>\n",
       "      <td>0.0</td>\n",
       "      <td>0.0</td>\n",
       "      <td>1.0</td>\n",
       "      <td>0.0</td>\n",
       "      <td>0.0</td>\n",
       "      <td>0.0</td>\n",
       "      <td>0.0</td>\n",
       "      <td>330.0</td>\n",
       "      <td>0.0</td>\n",
       "    </tr>\n",
       "    <tr>\n",
       "      <th>3</th>\n",
       "      <td>5.0</td>\n",
       "      <td>0.1</td>\n",
       "      <td>0.0</td>\n",
       "      <td>0.0</td>\n",
       "      <td>0.0</td>\n",
       "      <td>10.0</td>\n",
       "      <td>0.0</td>\n",
       "      <td>0.0</td>\n",
       "      <td>0.0</td>\n",
       "      <td>1.0</td>\n",
       "      <td>0.0</td>\n",
       "      <td>0.0</td>\n",
       "      <td>2.0</td>\n",
       "      <td>0.0</td>\n",
       "      <td>410.0</td>\n",
       "      <td>0.0</td>\n",
       "    </tr>\n",
       "    <tr>\n",
       "      <th>4</th>\n",
       "      <td>70.0</td>\n",
       "      <td>0.1</td>\n",
       "      <td>0.1</td>\n",
       "      <td>0.0</td>\n",
       "      <td>5.0</td>\n",
       "      <td>75.0</td>\n",
       "      <td>10.0</td>\n",
       "      <td>0.0</td>\n",
       "      <td>9.0</td>\n",
       "      <td>6.0</td>\n",
       "      <td>10.0</td>\n",
       "      <td>0.0</td>\n",
       "      <td>20.0</td>\n",
       "      <td>0.0</td>\n",
       "      <td>75.0</td>\n",
       "      <td>0.0</td>\n",
       "    </tr>\n",
       "  </tbody>\n",
       "</table>\n",
       "</div>"
      ],
      "text/plain": [
       "   Calories  Total Fat (g)  Trans Fat (g)   Saturated Fat (g)  Sodium (mg)  \\\n",
       "0       3.0            0.1             0.0                0.0          0.0   \n",
       "1       4.0            0.1             0.0                0.0          0.0   \n",
       "2       5.0            0.1             0.0                0.0          0.0   \n",
       "3       5.0            0.1             0.0                0.0          0.0   \n",
       "4      70.0            0.1             0.1                0.0          5.0   \n",
       "\n",
       "   Total Carbohydrates (g)   Cholesterol (mg)  Dietary Fibre (g)  Sugars (g)  \\\n",
       "0                       5.0               0.0                0.0         0.0   \n",
       "1                      10.0               0.0                0.0         0.0   \n",
       "2                      10.0               0.0                0.0         0.0   \n",
       "3                      10.0               0.0                0.0         0.0   \n",
       "4                      75.0              10.0                0.0         9.0   \n",
       "\n",
       "   Protein (g)   Vitamin A (% DV)   Vitamin C (% DV)  Calcium (% DV)   \\\n",
       "0           0.3                0.0               0.0              0.0   \n",
       "1           0.5                0.0               0.0              0.0   \n",
       "2           1.0                0.0               0.0              0.0   \n",
       "3           1.0                0.0               0.0              2.0   \n",
       "4           6.0               10.0               0.0             20.0   \n",
       "\n",
       "   Iron (% DV)   Caffeine (mg)  Tea  \n",
       "0           0.0          175.0  0.0  \n",
       "1           0.0          260.0  0.0  \n",
       "2           0.0          330.0  0.0  \n",
       "3           0.0          410.0  0.0  \n",
       "4           0.0           75.0  0.0  "
      ]
     },
     "execution_count": 9,
     "metadata": {},
     "output_type": "execute_result"
    }
   ],
   "source": [
    "# perform one hot encoding on the beverage category and beverage prep columns\n",
    "def onehot_encode(starbucks_drinks, columns, prefixes):\n",
    "    starbucks_drinks = starbucks_drinks.copy()\n",
    "    for column, prefix in zip(columns, prefixes):\n",
    "        dummies = pd.get_dummies(starbucks_drinks[column], prefix=prefix)\n",
    "        starbucks_drinks = pd.concat([starbucks_drinks, dummies], axis=1)\n",
    "\n",
    "    # Drop the original columns after processing all specified columns\n",
    "    starbucks_drinks = starbucks_drinks.drop(columns, axis=1)\n",
    "    return starbucks_drinks\n",
    "\n",
    "# Example usage\n",
    "starbucks_drinks = onehot_encode(\n",
    "    starbucks_drinks,\n",
    "    columns=['Beverage_prep'],\n",
    "    prefixes=['Prep']\n",
    ")\n",
    "starbucks_drinks.head()"
   ]
  },
  {
   "cell_type": "code",
   "execution_count": 10,
   "metadata": {},
   "outputs": [],
   "source": [
    "# scale the data\n",
    "X = starbucks_drinks.drop(['Tea'], axis=1)\n",
    "y = starbucks_drinks['Tea']\n",
    "starbucks_scaler = StandardScaler()\n",
    "X = starbucks_scaler.fit_transform(X)"
   ]
  },
  {
   "cell_type": "code",
   "execution_count": 11,
   "metadata": {},
   "outputs": [],
   "source": [
    "# split the data into training and testing sets\n",
    "X_train, X_test, y_train, y_test = train_test_split(X, y, test_size=0.3, random_state=42)"
   ]
  },
  {
   "cell_type": "code",
   "execution_count": 12,
   "metadata": {},
   "outputs": [
    {
     "data": {
      "image/png": "[encoded data removed]",
      "text/plain": [
       "<Figure size 640x480 with 2 Axes>"
      ]
     },
     "metadata": {},
     "output_type": "display_data"
    },
    {
     "name": "stdout",
     "output_type": "stream",
     "text": [
      "              precision    recall  f1-score   support\n",
      "\n",
      "         0.0       0.81      1.00      0.90        56\n",
      "         1.0       1.00      0.24      0.38        17\n",
      "\n",
      "    accuracy                           0.82        73\n",
      "   macro avg       0.91      0.62      0.64        73\n",
      "weighted avg       0.86      0.82      0.78        73\n",
      "\n"
     ]
    }
   ],
   "source": [
    "# logistic regression\n",
    "logreg = LogisticRegression()\n",
    "logreg.fit(X_train, y_train)\n",
    "y_pred = logreg.predict(X_test)\n",
    "# confusion matrix\n",
    "confusion_matrix = metrics.confusion_matrix(y_test, y_pred)\n",
    "confusion_matrix\n",
    "# plot confusion matrix\n",
    "class_names = ['Coffee', 'Tea']\n",
    "fig, ax = plt.subplots()\n",
    "tick_marks = np.arange(len(class_names))\n",
    "plt.xticks(tick_marks, class_names)\n",
    "plt.yticks(tick_marks, class_names)\n",
    "sns.heatmap(pd.DataFrame(confusion_matrix), annot=True, cmap=\"YlGn\", fmt='g')\n",
    "ax.xaxis.set_label_position(\"top\")\n",
    "plt.tight_layout()\n",
    "plt.title('Tea vs. Coffee: Logistic Regression Confusion Matrix', y=1.1)\n",
    "plt.ylabel('Actual')\n",
    "plt.xlabel('Predicted')\n",
    "plt.show()\n",
    "# classification report\n",
    "print(metrics.classification_report(y_test, y_pred))"
   ]
  },
  {
   "cell_type": "code",
   "execution_count": 13,
   "metadata": {},
   "outputs": [
    {
     "name": "stdout",
     "output_type": "stream",
     "text": [
      "Accuracy of SVM classifier on test set: 0.78\n"
     ]
    },
    {
     "data": {
      "image/png": "[encoded data removed]",
      "text/plain": [
       "<Figure size 640x480 with 2 Axes>"
      ]
     },
     "metadata": {},
     "output_type": "display_data"
    }
   ],
   "source": [
    "# SVM \n",
    "from sklearn.svm import SVC\n",
    "svm = SVC()\n",
    "svm.fit(X_train, y_train)\n",
    "y_pred = svm.predict(X_test)\n",
    "print('Accuracy of SVM classifier on test set: {:.2f}'.format(svm.score(X_test, y_test)))\n",
    "# confusion matrix\n",
    "svm_confusion_matrix = metrics.confusion_matrix(y_test, y_pred)\n",
    "svm_confusion_matrix\n",
    "# plot confusion matrix\n",
    "class_names = ['Coffee', 'Tea']\n",
    "fig, ax = plt.subplots()\n",
    "tick_marks = np.arange(len(class_names))\n",
    "plt.xticks(tick_marks, class_names)\n",
    "plt.yticks(tick_marks, class_names)\n",
    "sns.heatmap(pd.DataFrame(svm_confusion_matrix), annot=True, cmap=\"YlGn\", fmt='g')\n",
    "ax.xaxis.set_label_position(\"top\")\n",
    "plt.tight_layout()\n",
    "plt.title('Tea vs. Coffee: SVM Confusion Matrix', y=1.1)\n",
    "plt.ylabel('Actual')\n",
    "plt.xlabel('Predicted')\n",
    "plt.show()"
   ]
  },
  {
   "cell_type": "code",
   "execution_count": 14,
   "metadata": {},
   "outputs": [
    {
     "name": "stdout",
     "output_type": "stream",
     "text": [
      "Accuracy of Decision Tree classifier on test set: 0.95\n"
     ]
    },
    {
     "data": {
      "image/png": "[encoded data removed]",
      "text/plain": [
       "<Figure size 640x480 with 2 Axes>"
      ]
     },
     "metadata": {},
     "output_type": "display_data"
    }
   ],
   "source": [
    "# decision tree\n",
    "from sklearn.tree import DecisionTreeClassifier\n",
    "dtree = DecisionTreeClassifier()\n",
    "dtree.fit(X_train, y_train)\n",
    "y_pred = dtree.predict(X_test)\n",
    "print('Accuracy of Decision Tree classifier on test set: {:.2f}'.format(dtree.score(X_test, y_test)))\n",
    "# confusion matrix\n",
    "dtree_confusion_matrix = metrics.confusion_matrix(y_test, y_pred)\n",
    "dtree_confusion_matrix\n",
    "# plot confusion matrix\n",
    "class_names = ['Coffee', 'Tea']\n",
    "fig, ax = plt.subplots()\n",
    "tick_marks = np.arange(len(class_names))\n",
    "plt.xticks(tick_marks, class_names)\n",
    "plt.yticks(tick_marks, class_names)\n",
    "sns.heatmap(pd.DataFrame(dtree_confusion_matrix), annot=True, cmap=\"YlGn\", fmt='g')\n",
    "ax.xaxis.set_label_position(\"top\")\n",
    "plt.tight_layout()\n",
    "plt.title('Tea vs. Coffee: Decision Tree Confusion Matrix', y=1.1)\n",
    "plt.ylabel('Actual')\n",
    "plt.xlabel('Predicted')\n",
    "plt.show()"
   ]
  },
  {
   "cell_type": "code",
   "execution_count": 15,
   "metadata": {},
   "outputs": [
    {
     "name": "stdout",
     "output_type": "stream",
     "text": [
      "Accuracy of Random Forest classifier on test set: 0.89\n"
     ]
    },
    {
     "data": {
      "image/png": "[encoded data removed]",
      "text/plain": [
       "<Figure size 640x480 with 2 Axes>"
      ]
     },
     "metadata": {},
     "output_type": "display_data"
    }
   ],
   "source": [
    "# random forest\n",
    "from sklearn.ensemble import RandomForestClassifier\n",
    "rf = RandomForestClassifier()\n",
    "rf.fit(X_train, y_train)\n",
    "y_pred = rf.predict(X_test)\n",
    "print('Accuracy of Random Forest classifier on test set: {:.2f}'.format(rf.score(X_test, y_test)))\n",
    "# confusion matrix\n",
    "rf_confusion_matrix = metrics.confusion_matrix(y_test, y_pred)\n",
    "rf_confusion_matrix\n",
    "# plot confusion matrix\n",
    "class_names = ['Coffee', 'Tea']\n",
    "fig, ax = plt.subplots()\n",
    "tick_marks = np.arange(len(class_names))\n",
    "plt.xticks(tick_marks, class_names)\n",
    "plt.yticks(tick_marks, class_names)\n",
    "sns.heatmap(pd.DataFrame(rf_confusion_matrix), annot=True, cmap=\"YlGn\", fmt='g')\n",
    "ax.xaxis.set_label_position(\"top\")\n",
    "plt.tight_layout()\n",
    "plt.title('Tea vs. Coffee: Random Forest Confusion Matrix', y=1.1)\n",
    "plt.ylabel('Actual')\n",
    "plt.xlabel('Predicted')\n",
    "plt.show()\n"
   ]
  },
  {
   "cell_type": "code",
   "execution_count": 16,
   "metadata": {},
   "outputs": [
    {
     "name": "stdout",
     "output_type": "stream",
     "text": [
      "Accuracy of KNN classifier on test set: 0.86\n"
     ]
    },
    {
     "data": {
      "image/png": "[encoded data removed]",
      "text/plain": [
       "<Figure size 640x480 with 2 Axes>"
      ]
     },
     "metadata": {},
     "output_type": "display_data"
    }
   ],
   "source": [
    "# KNN\n",
    "from sklearn.neighbors import KNeighborsClassifier\n",
    "knn = KNeighborsClassifier()\n",
    "knn.fit(X_train, y_train)\n",
    "y_pred = knn.predict(X_test)\n",
    "print('Accuracy of KNN classifier on test set: {:.2f}'.format(knn.score(X_test, y_test)))\n",
    "# confusion matrix\n",
    "knn_confusion_matrix = metrics.confusion_matrix(y_test, y_pred)\n",
    "knn_confusion_matrix\n",
    "# plot confusion matrix\n",
    "class_names = ['Coffee', 'Tea']\n",
    "fig, ax = plt.subplots()\n",
    "tick_marks = np.arange(len(class_names))\n",
    "plt.xticks(tick_marks, class_names)\n",
    "plt.yticks(tick_marks, class_names)\n",
    "sns.heatmap(pd.DataFrame(knn_confusion_matrix), annot=True, cmap=\"YlGn\", fmt='g')\n",
    "ax.xaxis.set_label_position(\"top\")\n",
    "plt.tight_layout()\n",
    "plt.title('Tea vs. Coffee: KNN Confusion Matrix', y=1.1)\n",
    "plt.ylabel('Actual')\n",
    "plt.xlabel('Predicted')\n",
    "plt.show()\n"
   ]
  },
  {
   "cell_type": "code",
   "execution_count": 17,
   "metadata": {},
   "outputs": [
    {
     "name": "stdout",
     "output_type": "stream",
     "text": [
      "Accuracy of Naive Bayes classifier on test set: 0.60\n"
     ]
    },
    {
     "data": {
      "image/png": "[encoded data removed]",
      "text/plain": [
       "<Figure size 640x480 with 2 Axes>"
      ]
     },
     "metadata": {},
     "output_type": "display_data"
    }
   ],
   "source": [
    "# naive bayes\n",
    "from sklearn.naive_bayes import GaussianNB\n",
    "nb = GaussianNB()\n",
    "nb.fit(X_train, y_train)\n",
    "y_pred = nb.predict(X_test)\n",
    "print('Accuracy of Naive Bayes classifier on test set: {:.2f}'.format(nb.score(X_test, y_test)))\n",
    "# confusion matrix\n",
    "nb_confusion_matrix = metrics.confusion_matrix(y_test, y_pred)\n",
    "nb_confusion_matrix\n",
    "# plot confusion matrix\n",
    "class_names = ['Coffee', 'Tea']\n",
    "fig, ax = plt.subplots()\n",
    "tick_marks = np.arange(len(class_names))\n",
    "plt.xticks(tick_marks, class_names)\n",
    "plt.yticks(tick_marks, class_names)\n",
    "sns.heatmap(pd.DataFrame(nb_confusion_matrix), annot=True, cmap=\"YlGn\", fmt='g')\n",
    "ax.xaxis.set_label_position(\"top\")\n",
    "plt.tight_layout()\n",
    "plt.title('Tea vs. Coffee: Naive Bayes Confusion Matrix', y=1.1)\n",
    "plt.ylabel('Actual')\n",
    "plt.xlabel('Predicted')\n",
    "plt.show()"
   ]
  },
  {
   "cell_type": "code",
   "execution_count": 18,
   "metadata": {},
   "outputs": [
    {
     "ename": "ModuleNotFoundError",
     "evalue": "No module named 'xgboost'",
     "output_type": "error",
     "traceback": [
      "\u001b[0;31m---------------------------------------------------------------------------\u001b[0m",
      "\u001b[0;31mModuleNotFoundError\u001b[0m                       Traceback (most recent call last)",
      "\u001b[1;32m/Users/sarahbradford/DataScience/starbucks_app/tea_classification.ipynb Cell 18\u001b[0m line \u001b[0;36m2\n\u001b[1;32m      <a href='vscode-notebook-cell:/Users/sarahbradford/DataScience/starbucks_app/tea_classification.ipynb#X23sZmlsZQ%3D%3D?line=0'>1</a>\u001b[0m \u001b[39m# XGBoost\u001b[39;00m\n\u001b[0;32m----> <a href='vscode-notebook-cell:/Users/sarahbradford/DataScience/starbucks_app/tea_classification.ipynb#X23sZmlsZQ%3D%3D?line=1'>2</a>\u001b[0m \u001b[39mfrom\u001b[39;00m \u001b[39mxgboost\u001b[39;00m \u001b[39mimport\u001b[39;00m XGBClassifier\n\u001b[1;32m      <a href='vscode-notebook-cell:/Users/sarahbradford/DataScience/starbucks_app/tea_classification.ipynb#X23sZmlsZQ%3D%3D?line=2'>3</a>\u001b[0m xgb \u001b[39m=\u001b[39m XGBClassifier()\n\u001b[1;32m      <a href='vscode-notebook-cell:/Users/sarahbradford/DataScience/starbucks_app/tea_classification.ipynb#X23sZmlsZQ%3D%3D?line=3'>4</a>\u001b[0m xgb\u001b[39m.\u001b[39mfit(X_train, y_train)\n",
      "\u001b[0;31mModuleNotFoundError\u001b[0m: No module named 'xgboost'"
     ]
    }
   ],
   "source": [
    "# XGBoost\n",
    "from xgboost import XGBClassifier\n",
    "xgb = XGBClassifier()\n",
    "xgb.fit(X_train, y_train)\n",
    "y_pred = xgb.predict(X_test)\n",
    "print('Accuracy of XGBoost classifier on test set: {:.2f}'.format(xgb.score(X_test, y_test)))\n",
    "# confusion matrix\n",
    "xgb_confusion_matrix = metrics.confusion_matrix(y_test, y_pred)\n",
    "xgb_confusion_matrix\n",
    "# plot confusion matrix\n",
    "class_names = ['Coffee', 'Tea']\n",
    "fig, ax = plt.subplots()\n",
    "tick_marks = np.arange(len(class_names))\n",
    "plt.xticks(tick_marks, class_names)\n",
    "plt.yticks(tick_marks, class_names)\n",
    "sns.heatmap(pd.DataFrame(xgb_confusion_matrix), annot=True, cmap=\"YlGn\", fmt='g')\n",
    "ax.xaxis.set_label_position(\"top\")\n",
    "plt.tight_layout()\n",
    "plt.title('Tea vs. Coffee: XGBoost Confusion Matrix', y=1.1)\n",
    "plt.ylabel('Actual')\n",
    "plt.xlabel('Predicted')\n",
    "plt.show()"
   ]
  }
 ],
 "metadata": {
  "kernelspec": {
   "display_name": "base",
   "language": "python",
   "name": "python3"
  },
  "language_info": {
   "codemirror_mode": {
    "name": "ipython",
    "version": 3
   },
   "file_extension": ".py",
   "mimetype": "text/x-python",
   "name": "python",
   "nbconvert_exporter": "python",
   "pygments_lexer": "ipython3",
   "version": "3.11.5"
  }
 },
 "nbformat": 4,
 "nbformat_minor": 2
}
